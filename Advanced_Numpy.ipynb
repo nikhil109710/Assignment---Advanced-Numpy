{
  "nbformat": 4,
  "nbformat_minor": 0,
  "metadata": {
    "colab": {
      "provenance": []
    },
    "kernelspec": {
      "name": "python3",
      "display_name": "Python 3"
    },
    "language_info": {
      "name": "python"
    }
  },
  "cells": [
    {
      "cell_type": "code",
      "execution_count": 1,
      "metadata": {
        "id": "Vfra1aallOt3"
      },
      "outputs": [],
      "source": [
        "import numpy as np"
      ]
    },
    {
      "cell_type": "code",
      "source": [
        "def create_uninitialized_array(shape):\n",
        "    # Use the empty() function to create an uninitialized array with the given shape\n",
        "    arr = np.empty(shape)\n",
        "    return arr"
      ],
      "metadata": {
        "id": "vW5CVFz7lXKS"
      },
      "execution_count": 2,
      "outputs": []
    },
    {
      "cell_type": "code",
      "source": [
        "def create_zeros_array(shape):\n",
        "    # Use the zeros() function to create an array with the given shape, initialized with zeros\n",
        "    arr = np.zeros(shape)\n",
        "    return arr"
      ],
      "metadata": {
        "id": "od_Une6ClcOH"
      },
      "execution_count": 3,
      "outputs": []
    },
    {
      "cell_type": "code",
      "source": [
        "def create_ones_array(shape):\n",
        "    # Use the ones() function to create an array with the given shape, initialized with ones\n",
        "    arr = np.ones(shape)\n",
        "    return arr"
      ],
      "metadata": {
        "id": "gGhnhFz7lfPf"
      },
      "execution_count": 4,
      "outputs": []
    },
    {
      "cell_type": "code",
      "source": [
        "def create_array_except_last_column(shape, value):\n",
        "    # Create an array with the given shape and fill it with the specified value\n",
        "    arr = np.full(shape, value)\n",
        "    # Set the last column to zero\n",
        "    arr[:, -1] = 0\n",
        "    return arr"
      ],
      "metadata": {
        "id": "W1W3x9-BlhTI"
      },
      "execution_count": 5,
      "outputs": []
    },
    {
      "cell_type": "code",
      "source": [
        "def create_range_array(start, end):\n",
        "    # Use the arange() function to create a range of numbers and convert it to a numpy array\n",
        "    arr = np.arange(start, end+1)\n",
        "    return arr"
      ],
      "metadata": {
        "id": "zRsD08wFlj8-"
      },
      "execution_count": 6,
      "outputs": []
    },
    {
      "cell_type": "code",
      "source": [
        "def create_random_array(shape, min_value, max_value):\n",
        "    # Use the random.randint() function to generate random integers within the specified range\n",
        "    arr = np.random.randint(min_value, max_value+1, shape)\n",
        "    return arr"
      ],
      "metadata": {
        "id": "OyU1EBkWll3D"
      },
      "execution_count": 7,
      "outputs": []
    },
    {
      "cell_type": "code",
      "source": [
        "def create_specified_array(numbers):\n",
        "    # Convert the list of numbers to a numpy array\n",
        "    arr = np.array(numbers)\n",
        "    return arr"
      ],
      "metadata": {
        "id": "iK2GTp4Vlnqz"
      },
      "execution_count": 8,
      "outputs": []
    },
    {
      "cell_type": "code",
      "source": [
        "def slice_1d_array(arr, start_index, end_index):\n",
        "    # Use the slice notation to create a new array with the specified indices\n",
        "    sliced_array = arr[start_index:end_index]\n",
        "    return sliced_array"
      ],
      "metadata": {
        "id": "oHzXVa4qlptJ"
      },
      "execution_count": 9,
      "outputs": []
    },
    {
      "cell_type": "code",
      "source": [
        "def slice_2d_array(arr, start_row, end_row, start_col, end_col):\n",
        "    # Use the slice notation to create a new array with the specified indices\n",
        "    sliced_array = arr[start_row:end_row, start_col:end_col]\n",
        "    return sliced_array"
      ],
      "metadata": {
        "id": "LQK58U_ylrpL"
      },
      "execution_count": 10,
      "outputs": []
    },
    {
      "cell_type": "code",
      "source": [
        "def slice_3d_array(arr, start_depth, end_depth, start_row, end_row, start_col, end_col):\n",
        "    # Use the slice notation to create a new array with the specified indices\n",
        "    sliced_array = arr[start_depth:end_depth, start_row:end_row, start_col:end_col]\n",
        "    return sliced_array"
      ],
      "metadata": {
        "id": "HDQuUdGwltfT"
      },
      "execution_count": 11,
      "outputs": []
    },
    {
      "cell_type": "code",
      "source": [],
      "metadata": {
        "id": "dJ9cYKcmlvDn"
      },
      "execution_count": null,
      "outputs": []
    }
  ]
}